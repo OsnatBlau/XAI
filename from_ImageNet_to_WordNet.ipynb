{
 "cells": [
  {
   "cell_type": "code",
   "execution_count": 1,
   "id": "ea55bc10",
   "metadata": {},
   "outputs": [
    {
     "ename": "SyntaxError",
     "evalue": "invalid syntax (3330703990.py, line 1)",
     "output_type": "error",
     "traceback": [
      "\u001b[1;36m  File \u001b[1;32m\"C:\\Users\\osnat\\AppData\\Local\\Temp\\ipykernel_31648\\3330703990.py\"\u001b[1;36m, line \u001b[1;32m1\u001b[0m\n\u001b[1;33m    pip install tensorflow\u001b[0m\n\u001b[1;37m        ^\u001b[0m\n\u001b[1;31mSyntaxError\u001b[0m\u001b[1;31m:\u001b[0m invalid syntax\n"
     ]
    }
   ],
   "source": [
    "pip install tensorflow\n",
    "pip install nltk"
   ]
  },
  {
   "cell_type": "code",
   "execution_count": 2,
   "id": "83c979a7",
   "metadata": {
    "scrolled": true
   },
   "outputs": [
    {
     "name": "stderr",
     "output_type": "stream",
     "text": [
      "C:\\Users\\osnat\\anaconda3\\lib\\site-packages\\scipy\\__init__.py:155: UserWarning: A NumPy version >=1.18.5 and <1.25.0 is required for this version of SciPy (detected version 1.26.2\n",
      "  warnings.warn(f\"A NumPy version >={np_minversion} and <{np_maxversion}\"\n"
     ]
    },
    {
     "name": "stdout",
     "output_type": "stream",
     "text": [
      "WARNING:tensorflow:From C:\\Users\\osnat\\anaconda3\\lib\\site-packages\\keras\\src\\losses.py:2976: The name tf.losses.sparse_softmax_cross_entropy is deprecated. Please use tf.compat.v1.losses.sparse_softmax_cross_entropy instead.\n",
      "\n"
     ]
    }
   ],
   "source": [
    "import nltk\n",
    "import tensorflow as tf\n",
    "from tensorflow.keras.applications.resnet50 import preprocess_input, decode_predictions\n",
    "from tensorflow.keras.preprocessing import image\n",
    "from nltk.corpus import wordnet as wn"
   ]
  },
  {
   "cell_type": "code",
   "execution_count": null,
   "id": "a93a6330",
   "metadata": {},
   "outputs": [],
   "source": [
    "nltk.download('omw-1.4')\n",
    "nltk.download('wordnet')"
   ]
  },
  {
   "cell_type": "code",
   "execution_count": 6,
   "id": "19afe51c",
   "metadata": {
    "scrolled": false
   },
   "outputs": [
    {
     "name": "stdout",
     "output_type": "stream",
     "text": [
      "Enter the path to the image: C:\\Users\\osnat\\Desktop\\Shenkar\\4th year\\Final Project - XAI\\Code\\dogs and cats\\n02093428-American_Staffordshire_terrier\\n02093428_10908.jpg\n",
      "1/1 [==============================] - 1s 745ms/step\n",
      "[('n02093428', 'American_Staffordshire_terrier', 0.87107426), ('n02093256', 'Staffordshire_bullterrier', 0.070463985), ('n02092339', 'Weimaraner', 0.014617731), ('n02091032', 'Italian_greyhound', 0.014526829), ('n02108422', 'bull_mastiff', 0.007087681), ('n02108089', 'boxer', 0.0069776513), ('n02087394', 'Rhodesian_ridgeback', 0.0058741625), ('n02113978', 'Mexican_hairless', 0.0036932244), ('n02091134', 'whippet', 0.0012382108), ('n02109047', 'Great_Dane', 0.001214096)]\n",
      "Predicted ImageNet Class: American_Staffordshire_terrier\n",
      "WordNet Hierarchy:\n",
      "Hierarchy for synset 'american_staffordshire_terrier.n.01':\n",
      "--> entity --> physical_entity --> object --> whole --> living_thing --> organism --> animal --> chordate --> vertebrate --> mammal --> placental --> carnivore --> canine --> dog --> hunting_dog --> terrier --> bullterrier --> american_staffordshire_terrier \n",
      "\n",
      "--> entity --> physical_entity --> object --> whole --> living_thing --> organism --> animal --> domestic_animal --> dog --> hunting_dog --> terrier --> bullterrier --> american_staffordshire_terrier \n",
      "\n"
     ]
    }
   ],
   "source": [
    "# Load pre-trained model (ResNet50 for demonstration)\n",
    "model = tf.keras.applications.ResNet50(weights='imagenet', include_top=True)\n",
    "\n",
    "\n",
    "def get_wordnet_hierarchy(image_path):\n",
    "    # Load and preprocess the image\n",
    "    img = image.load_img(image_path, target_size=(224, 224))\n",
    "    img_array = image.img_to_array(img)\n",
    "    img_array = preprocess_input(img_array)\n",
    "    img_array = tf.expand_dims(img_array, axis=0)\n",
    "\n",
    "    # Make predictions using ResNet50\n",
    "    predictions = model.predict(img_array)\n",
    "    decoded_predictions = decode_predictions(predictions, top=10)[0]\n",
    "    print(decoded_predictions)\n",
    "\n",
    "    if len(decoded_predictions) > 0:\n",
    "        imagenet_class = decoded_predictions[0][1]  # Get the predicted ImageNet class\n",
    "        synsets = wn.synsets(imagenet_class)\n",
    "\n",
    "        hierarchy = []\n",
    "        for synset in synsets:\n",
    "            hierarchy.append([synset, synset.hypernym_paths()])\n",
    "\n",
    "        return imagenet_class, hierarchy\n",
    "    else:\n",
    "        return \"No ImageNet class found for the given image.\", None\n",
    "\n",
    "# Replace this line with your actual image path\n",
    "image_path = input(\"Enter the path to the image: \")\n",
    "imagenet_class, hierarchy = get_wordnet_hierarchy(image_path)\n",
    "\n",
    "if hierarchy is not None:\n",
    "    print(f\"Predicted ImageNet Class: {imagenet_class}\")\n",
    "    print(\"WordNet Hierarchy:\")\n",
    "    for synset, hypernym_paths in hierarchy:\n",
    "        print(f\"Hierarchy for synset '{synset.name()}':\")\n",
    "        for path in hypernym_paths:\n",
    "            for hypernym in path:\n",
    "                print(f\"--> {hypernym.name().split('.')[0]} \", end='')\n",
    "            print(\"\\n\")\n",
    "else:\n",
    "    print(imagenet_class)\n"
   ]
  },
  {
   "cell_type": "code",
   "execution_count": null,
   "id": "6404673a",
   "metadata": {},
   "outputs": [],
   "source": []
  }
 ],
 "metadata": {
  "kernelspec": {
   "display_name": "Python 3 (ipykernel)",
   "language": "python",
   "name": "python3"
  },
  "language_info": {
   "codemirror_mode": {
    "name": "ipython",
    "version": 3
   },
   "file_extension": ".py",
   "mimetype": "text/x-python",
   "name": "python",
   "nbconvert_exporter": "python",
   "pygments_lexer": "ipython3",
   "version": "3.9.13"
  }
 },
 "nbformat": 4,
 "nbformat_minor": 5
}
